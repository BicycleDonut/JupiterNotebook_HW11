{
 "cells":[
  {
   "cell_type":"code",
   "source":[
    "from sympy import *\n",
    "from sympy.plotting import plot\n",
    "\n",
    "x = Symbol(\"x\", real=True)\n",
    "\n",
    "f1 = -18 * x ** 3 + 5 * x ** 2 + 10 * x - 30\n",
    "f2 = 2 * x ** 3 + 2 * x ** 2 - 18 * x - 18\n",
    "f3 = (x ** 2 + 3) \/ (3 * (x + 1))\n",
    "print(f\"Исследование функций:\\n{f1}\\n{f2}\\n{f3}\")"
   ],
   "execution_count":3,
   "outputs":[
    {
     "name":"stdout",
     "text":[
      "Исследование функций:\n",
      "-18*x**3 + 5*x**2 + 10*x - 30\n",
      "2*x**3 + 2*x**2 - 18*x - 18\n",
      "(x**2 + 3)\/(3*x + 3)\n"
     ],
     "output_type":"stream"
    }
   ],
   "metadata":{
    "datalore":{
     "node_id":"JADkGl5xiFhbQnHpzSWKsG",
     "type":"CODE",
     "hide_input_from_viewers":true,
     "hide_output_from_viewers":true
    }
   }
  },
  {
   "cell_type":"code",
   "source":[
    "# 1. Определить корни\n",
    "#    Нули функции\n",
    "def roots(f):\n",
    "    return[round(x,3) for x in solve(f,x) if x.is_real] if [round(x,3) for x in solve(f,x) if x.is_real] else 'нет корней'\n",
    "print(f'1 функция: {roots(f1)}')\n",
    "print(f'2 функция: {roots(f2)}')\n",
    "print(f'3 функция: {roots(f3)}')"
   ],
   "execution_count":4,
   "outputs":[
    {
     "name":"stdout",
     "text":[
      "1 функция: [-1.245]\n",
      "2 функция: [-3, -1, 3]\n",
      "3 функция: нет корней\n"
     ],
     "output_type":"stream"
    }
   ],
   "metadata":{
    "datalore":{
     "node_id":"djjxMpRZmXSd0NMoohk0ov",
     "type":"CODE",
     "hide_input_from_viewers":true,
     "hide_output_from_viewers":true
    }
   }
  },
  {
   "cell_type":"markdown",
   "source":[
    
   ],
   "attachments":{
    
   },
   "metadata":{
    "datalore":{
     "node_id":"6XCk0P48AVMeKDi0pRsysL",
     "type":"MD",
     "hide_input_from_viewers":true,
     "hide_output_from_viewers":true
    }
   }
  },
  {
   "cell_type":"code",
   "source":[
    "# 2. Найти интервалы, на которых функция возрастает\n",
    "# 3. Найти интервалы, на которых функция убывает\n",
    "def extr(f):\n",
    "    ex=[-oo, oo]\n",
    "    ex[1:1]=solve(diff(f),x)\n",
    "    ex.sort()\n",
    "    return ex\n",
    "\n",
    "def incrRedc(f):\n",
    "    incr=[]\n",
    "    redc=[]\n",
    "    for i in range(1,len(extr(f))):\n",
    "        temp=is_increasing(f,Interval.open(extr(f)[i-1],extr(f)[i]))\n",
    "        if temp:\n",
    "            incr.append(f'от {round(extr(f)[i-1],3)} до {round(extr(f)[i],3)}')\n",
    "        else:\n",
    "            redc.append(f'от {round(extr(f)[i-1],3)} до {round(extr(f)[i],3)}')\n",
    "    print(f'Функция: {f}')\n",
    "    print(\"Возрастает на интервале: \", *incr, sep='\\n')\n",
    "    print(\"Убывает на интервале: \", *redc, sep='\\n')\n",
    "    print('-'*20)\n",
    "incrRedc(f1)\n",
    "incrRedc(f2)"
   ],
   "execution_count":5,
   "outputs":[
    {
     "name":"stdout",
     "text":[
      "Функция: -18*x**3 + 5*x**2 + 10*x - 30\n",
      "Возрастает на интервале: \n",
      "от -0.348 до 0.533\n",
      "Убывает на интервале: \n",
      "от -oo до -0.348\n",
      "от 0.533 до oo\n",
      "--------------------\n",
      "Функция: 2*x**3 + 2*x**2 - 18*x - 18\n",
      "Возрастает на интервале: \n",
      "от -oo до -2.097\n",
      "от 1.431 до oo\n",
      "Убывает на интервале: \n",
      "от -2.097 до 1.431\n",
      "--------------------\n"
     ],
     "output_type":"stream"
    }
   ],
   "metadata":{
    "datalore":{
     "node_id":"6qR0PrbaEvO0CqQ3ceFNap",
     "type":"CODE",
     "hide_input_from_viewers":true,
     "hide_output_from_viewers":true
    }
   }
  },
  {
   "cell_type":"code",
   "source":[
    "def extr(f):\n",
    "    ex=[-oo, oo]\n",
    "    ex[1:1]=solve(diff(f),x) # крит точки\n",
    "    ex[1:1]=solve((3 * (x + 1)),x) # асимптота\n",
    "    ex.sort()\n",
    "    return ex\n",
    "\n",
    "def incrRedc(f):\n",
    "    incr=[]\n",
    "    redc=[]\n",
    "    for i in range(1,len(extr(f))):\n",
    "        temp=is_increasing(f,Interval.open(extr(f)[i-1],extr(f)[i]))\n",
    "        if temp:\n",
    "            incr.append(f'от {round(extr(f)[i-1],3)} до {round(extr(f)[i],3)}')\n",
    "        else:\n",
    "            redc.append(f'от {round(extr(f)[i-1],3)} до {round(extr(f)[i],3)}')\n",
    "    print(f'Функция: {f}')\n",
    "    print(\"Возрастает на интервале: \", *incr, sep='\\n')\n",
    "    print(\"Убывает на интервале: \", *redc, sep='\\n')\n",
    "    print('-'*20)\n",
    "incrRedc(f3)"
   ],
   "execution_count":6,
   "outputs":[
    {
     "name":"stdout",
     "text":[
      "Функция: (x**2 + 3)\/(3*x + 3)\n",
      "Возрастает на интервале: \n",
      "от -oo до -3\n",
      "от 1 до oo\n",
      "Убывает на интервале: \n",
      "от -3 до -1\n",
      "от -1 до 1\n",
      "--------------------\n"
     ],
     "output_type":"stream"
    }
   ],
   "metadata":{
    "datalore":{
     "node_id":"Vd5nhz06pfqfFPKtnzOro2",
     "type":"CODE",
     "hide_input_from_viewers":true,
     "hide_output_from_viewers":true
    }
   }
  },
  {
   "cell_type":"code",
   "source":[
    "# 4. Построить график\n",
    "plot(f1,(x,-1,1),legend=True)\n",
    "plot(f2,(x,-5,5),legend=True)\n",
    "plot(f3,(x,-50,50),legend=True)"
   ],
   "execution_count":7,
   "outputs":[
    {
     "data":{
      "image\/png":"[encoded data removed]"
     },
     "metadata":{
      "image\/png":{
       
      }
     },
     "output_type":"display_data"
    },
    {
     "data":{
      "image\/png":"[encoded data removed]"
     },
     "metadata":{
      "image\/png":{
       
      }
     },
     "output_type":"display_data"
    },
    {
     "data":{
      "image\/png":"[encoded data removed]"
     },
     "metadata":{
      "image\/png":{
       
      }
     },
     "output_type":"display_data"
    },
    {
     "data":{
      "text\/plain":[
       "<sympy.plotting.plot.Plot at 0x7f134a0d49d0>"
      ]
     },
     "metadata":{
      
     },
     "output_type":"display_data"
    }
   ],
   "metadata":{
    "datalore":{
     "node_id":"EhQcfkmmRnR1shjV4deh2H",
     "type":"CODE",
     "hide_input_from_viewers":true,
     "hide_output_from_viewers":true
    }
   }
  },
  {
   "cell_type":"code",
   "source":[
    "# 5. Вычислить вершину\n",
    "#    Экстремумы функции\n",
    "def minMax(f):\n",
    "    print(f\"{'-'*20}\\n Функция {f}\")\n",
    "    ex=solve(diff(f),x)\n",
    "    for i in ex:\n",
    "        temp=f.subs(x,i)\n",
    "        if temp<0:\n",
    "            print(\"Точка минимумуа\", round(temp,3))\n",
    "        else:\n",
    "            print(\"Точка максимума\", round(temp,3))\n",
    "            \n",
    "minMax(f1)\n",
    "minMax(f2)\n",
    "minMax(f3)"
   ],
   "execution_count":8,
   "outputs":[
    {
     "name":"stdout",
     "text":[
      "--------------------\n",
      " Функция -18*x**3 + 5*x**2 + 10*x - 30\n",
      "Точка минимумуа -32.116\n",
      "Точка минимумуа -25.975\n",
      "--------------------\n",
      " Функция 2*x**3 + 2*x**2 - 18*x - 18\n",
      "Точка минимумуа -33.802\n",
      "Точка максимума 10.098\n",
      "--------------------\n",
      " Функция (x**2 + 3)\/(3*x + 3)\n",
      "Точка минимумуа -2\n",
      "Точка максимума 0.667\n"
     ],
     "output_type":"stream"
    }
   ],
   "metadata":{
    "datalore":{
     "node_id":"dcHcjeHoEOExfYpmk0pcLj",
     "type":"CODE",
     "hide_input_from_viewers":true,
     "hide_output_from_viewers":true
    }
   }
  },
  {
   "cell_type":"code",
   "source":[
    "# 6. Определить промежутки, на котором f > 0\n",
    "# 7. Определить промежутки, на котором f < 0\n",
    "#    Знакопостоянства функции\n",
    "def aboveBelow(f): # для функция с корнями\n",
    "    lst=[-oo, oo]\n",
    "    lst[1:1]=[round(x,3) for x in solve(f,x) if x.is_real]\n",
    "    ab=[]\n",
    "    bel=[]\n",
    "    counter = is_increasing(f,Interval.open(lst[0],lst[1]))\n",
    "    for i in range(1,len(lst)):\n",
    "        if counter%2:\n",
    "            bel.append(f'{lst[i-1]},{lst[i]}')\n",
    "        else:\n",
    "            ab.append(f'{lst[i-1]},{lst[i]}')\n",
    "        counter+=1\n",
    "    print(f\"Функция {f}\")\n",
    "    print(\"f > 0: \", *ab,sep='\\n')\n",
    "    print(\"f < 0: \", *bel,sep='\\n')\n",
    "    print('-'*20)\n",
    "\n",
    "    \n",
    "aboveBelow(f1)\n",
    "aboveBelow(f2)"
   ],
   "execution_count":9,
   "outputs":[
    {
     "name":"stdout",
     "text":[
      "Функция -18*x**3 + 5*x**2 + 10*x - 30\n",
      "f > 0: \n",
      "-oo,-1.245\n",
      "f < 0: \n",
      "-1.245,oo\n",
      "--------------------\n",
      "Функция 2*x**3 + 2*x**2 - 18*x - 18\n",
      "f > 0: \n",
      "-3,-1\n",
      "3,oo\n",
      "f < 0: \n",
      "-oo,-3\n",
      "-1,3\n",
      "--------------------\n"
     ],
     "output_type":"stream"
    }
   ],
   "metadata":{
    "datalore":{
     "node_id":"qlYpbBhNwKbQTzUk7UhwPG",
     "type":"CODE",
     "hide_input_from_viewers":true,
     "hide_output_from_viewers":true
    }
   }
  },
  {
   "cell_type":"code",
   "source":[
    "def aboveBelow(f):\n",
    "    lst=[-oo, oo]\n",
    "    lst[1:1]=solve((3 * (x + 1)),x) # асимптота\n",
    "    ab=[]\n",
    "    bel=[]\n",
    "    for i in range(1,len(lst)):\n",
    "        temp_1,temp_2=lst[i-1],lst[i]\n",
    "        temp=is_increasing(f,Interval.open(temp_1,temp_2))\n",
    "        if temp:\n",
    "            bel.append(f'{temp_1},{lst[i]}')\n",
    "        else:\n",
    "            ab.append(f'{temp_1},{lst[i]}')\n",
    "    print(f\"Функция {f}\")\n",
    "    print(\"f < 0: \", *ab,sep='\\n')\n",
    "    print(\"f > 0: \", *bel,sep='\\n')\n",
    "\n",
    "aboveBelow(f3)"
   ],
   "execution_count":10,
   "outputs":[
    {
     "name":"stdout",
     "text":[
      "Функция (x**2 + 3)\/(3*x + 3)\n",
      "f < 0: \n",
      "-oo,-1\n",
      "-1,oo\n",
      "f > 0: \n"
     ],
     "output_type":"stream"
    }
   ],
   "metadata":{
    "datalore":{
     "node_id":"LYcfHHYGSSW091AS7XBvKa",
     "type":"CODE",
     "hide_input_from_viewers":true,
     "hide_output_from_viewers":true
    }
   }
  }
 ],
 "metadata":{
  "kernelspec":{
   "display_name":"Python",
   "language":"python",
   "name":"python"
  },
  "datalore":{
   "computation_mode":"JUPYTER",
   "package_manager":"pip",
   "base_environment":"default",
   "packages":[
    
   ],
   "report_row_ids":[
    
   ],
   "version":3
  }
 },
 "nbformat":4,
 "nbformat_minor":4
}